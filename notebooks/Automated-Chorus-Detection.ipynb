{
 "cells": [
  {
   "cell_type": "code",
   "execution_count": 23,
   "id": "6f4feb5c-b3cb-47e1-b475-bcd650cf0875",
   "metadata": {
    "tags": []
   },
   "outputs": [],
   "source": [
    "import librosa\n",
    "import numpy as np\n",
    "import pandas as pd\n",
    "import pickle\n",
    "import os\n",
    "from tqdm.notebook import tqdm\n",
    "import matplotlib.pyplot as plt\n",
    "from tensorflow.keras import layers\n",
    "from tensorflow.keras.models import Model, load_model\n",
    "from tensorflow.keras.optimizers import Adam\n",
    "from tensorflow.keras.callbacks import EarlyStopping, ModelCheckpoint, ReduceLROnPlateau, TensorBoard, CSVLogger\n",
    "import tensorflow.keras.backend as K\n",
    "import tensorflow as tf\n",
    "import matplotlib.pyplot as plt\n",
    "import warnings\n",
    "from sklearn.model_selection import train_test_split\n",
    "from sklearn.preprocessing import StandardScaler\n",
    "from sklearn.exceptions import ConvergenceWarning\n",
    "from sklearn.metrics import confusion_matrix, f1_score\n",
    "import seaborn as sns\n",
    "warnings.filterwarnings('ignore', category=ConvergenceWarning)"
   ]
  },
  {
   "cell_type": "markdown",
   "id": "737c7dfd",
   "metadata": {},
   "source": [
    "## Utility Functions"
   ]
  },
  {
   "cell_type": "code",
   "execution_count": 2,
   "id": "1521b498-7974-4eb1-bcb8-981d0491fae5",
   "metadata": {
    "tags": []
   },
   "outputs": [],
   "source": [
    "def make_key_invariant(chromagram):\n",
    "    \"\"\"Returns a key-invariant chromagram.\"\"\"\n",
    "    maj_profile = np.array([6.35, 2.23, 3.48, 2.33, 4.38, 4.09, 2.52, 5.19, 2.39, 3.66, 2.29, 2.88])\n",
    "    min_profile = np.array([6.33, 2.68, 3.52, 5.38, 2.60, 3.53, 2.54, 4.75, 3.98, 2.69, 3.34, 3.17])\n",
    "    avg_chroma = np.mean(chromagram, axis=1)\n",
    "    maj_corrs = np.correlate(avg_chroma, maj_profile, mode='same')\n",
    "    min_corrs = np.correlate(avg_chroma, min_profile, mode='same')\n",
    "    key_shift = np.argmax(np.concatenate((maj_corrs, min_corrs))) % 12\n",
    "    return np.roll(chromagram, -key_shift, axis=0)\n",
    "\n",
    "\n",
    "def find_anchor_frame(beats, tempo, sr, hop_length):\n",
    "    \"\"\"Determine the first beat frame that best matches the expected beat interval given a tempo and sample rate.\"\"\"\n",
    "    expected_interval = int(librosa.time_to_frames(60.0 / tempo, sr=sr, hop_length=hop_length))\n",
    "    best_match_start = max((1 - abs(np.mean(beats[i:i+3]) - expected_interval) / expected_interval, beats[i]) for i in range(len(beats) - 2))[1]\n",
    "    return best_match_start if best_match_start > 0.95 else beats[0]\n",
    "\n",
    "\n",
    "def create_beat_grid(beats, anchor_frame, beat_interval_in_frames, time_signature, duration_in_frames):\n",
    "    \"\"\"\n",
    "    Create a grid of beats and meters based on the tempo, time signature, and detected beats of the song.\n",
    "    \n",
    "    Parameters:\n",
    "    beats (np.ndarray): The frame locations of the beats in the song.\n",
    "    anchor_frame (int): The first beat frame that best matches the expected beat interval.\n",
    "    beat_interval_in_frames (int): The expected interval between beats in frames.\n",
    "    time_signature (int): The time signature of the song.\n",
    "    duration_in_frames (int): The total duration of the song in frames.\n",
    "    \n",
    "    Returns:\n",
    "    beat_grid (np.ndarray): The timestamps of the beats in the song.\n",
    "    meter_grid (np.ndarray): The timestamps of the meter boundaries in the song.\n",
    "    \"\"\"\n",
    "    anchor_frame = beats[0] if anchor_frame is None else anchor_frame\n",
    "    beat_grid = np.arange(anchor_frame, -beat_interval_in_frames, -beat_interval_in_frames)\n",
    "    beat_grid = beat_grid[beat_grid >= 0]\n",
    "    \n",
    "    meter_grid = np.arange(beat_grid[0], duration_in_frames + 1, beat_interval_in_frames * time_signature)\n",
    "    meter_grid = np.unique(np.concatenate((meter_grid, [0, duration_in_frames])))\n",
    "    \n",
    "    return beat_grid, meter_grid\n",
    "\n",
    "\n",
    "def generate_and_align_labels(df, sr, hop_length, n_frames, measure_grid_frames):\n",
    "    \"\"\"Create a binary label sequence for 'chorus' in a song and align it to a measure grid\"\"\"\n",
    "    binary_label_sequence = np.zeros(n_frames, dtype=int)\n",
    "    chorus_rows = df[df['label'] == 'chorus']\n",
    "    start_frames = librosa.time_to_frames(chorus_rows['start_time'].to_numpy(), sr=sr, hop_length=hop_length)\n",
    "    end_frames = librosa.time_to_frames(chorus_rows['end_time'].to_numpy(), sr=sr, hop_length=hop_length)\n",
    "    for start_frame, end_frame in zip(start_frames, end_frames):\n",
    "        binary_label_sequence[start_frame:end_frame] = 1\n",
    "    aligned_labels = [\n",
    "        int(np.mean(binary_label_sequence[s:e]) >= 0.25)  # Threshold to determine if the measure is labeled as chorus\n",
    "        for s, e in zip(measure_grid_frames[:-1], measure_grid_frames[1:])\n",
    "    ]\n",
    "    return np.array(aligned_labels)\n",
    "\n",
    "def segment_data_measures(data, measure_grid_frames):\n",
    "    \"\"\"Divide song data into segments based on measure grid frames.\"\"\"\n",
    "    return [data[s:e] for s, e in zip(measure_grid_frames[:-1], measure_grid_frames[1:])]\n",
    "\n",
    "\n",
    "def positional_encoding(position, d_model):\n",
    "    \"\"\"Generate a positional encoding for a given position and model dimension.\"\"\"\n",
    "    angle_rads = (\n",
    "        np.arange(position)[:, np.newaxis] /\n",
    "        np.power(10000, (2 * (np.arange(d_model)[np.newaxis, :] // 2)) / np.float32(d_model))\n",
    "    )\n",
    "    return np.concatenate([np.sin(angle_rads[:, 0::2]), np.cos(angle_rads[:, 1::2])], axis=-1)\n",
    "\n",
    "\n",
    "def apply_hierarchical_positional_encoding(segments):\n",
    "    \"\"\"Apply positional encoding at the meter and frame levels to a list of segments.\"\"\"\n",
    "    n_features = segments[0].shape[1]\n",
    "    measure_level_encodings = positional_encoding(len(segments), n_features)\n",
    "    return [\n",
    "        seg + positional_encoding(len(seg), n_features) + measure_level_encodings[i] \n",
    "        for i, seg in enumerate(segments)\n",
    "    ]"
   ]
  },
  {
   "cell_type": "markdown",
   "id": "0bb01f4e",
   "metadata": {},
   "source": [
    "## Data Extraction"
   ]
  },
  {
   "cell_type": "code",
   "execution_count": 52,
   "id": "82820a87-08ed-4120-96e7-bc81269617e3",
   "metadata": {
    "tags": []
   },
   "outputs": [
    {
     "name": "stderr",
     "output_type": "stream",
     "text": [
      "Processing...: 100%|██████████| 332/332 [59:17<00:00, 10.72s/it] \n"
     ]
    }
   ],
   "source": [
    "# Load data\n",
    "df = pd.read_csv('../data/dataframes/clean_labeled.csv')\n",
    "\n",
    "# Prepare directories\n",
    "segment_dir = \"../data/segments\"\n",
    "labels_dir = \"../data/labels\"\n",
    "os.makedirs(segment_dir, exist_ok=True)\n",
    "os.makedirs(labels_dir, exist_ok=True)\n",
    "\n",
    "TARGET_SR = 12000 # Target sample rate chosen to be 1/4 of the original 48kHz.\n",
    "HOP_LENGTH = 128  # Hop length for short-time Fourier transform. Hop length of 128 at 12kHz gives a similar frame rate to a hop length of 512 at 48kHz.\n",
    "\n",
    "# Process DataFrame by SongID\n",
    "for song_id in tqdm(df['SongID'].unique(), desc=\"Processing...\"):\n",
    "    # Load the audio file\n",
    "    audio_path = f'../data/audio_files/processed/{song_id}.mp3'\n",
    "    y, _ = librosa.load(audio_path, sr=TARGET_SR)\n",
    "\n",
    "    # Harmonic-percussive source separation\n",
    "    y_harm, y_perc = librosa.effects.hpss(y)\n",
    "\n",
    "    # Compute RMS energy from spectrogram to give a more accurate representation of energy over time because its frames can be windowed\n",
    "    S = np.abs(librosa.stft(y, hop_length=HOP_LENGTH))\n",
    "    rms = librosa.feature.rms(S=S)\n",
    "    \n",
    "    # Compute Mel Spectrogram and decompose into 4 components (4 chosen from EDA)\n",
    "    mel = librosa.feature.melspectrogram(y=y, sr=TARGET_SR, n_mels=128, hop_length=HOP_LENGTH)\n",
    "    mel_acts = librosa.decompose.decompose(mel, n_components=4, sort=True)[1]\n",
    "    \n",
    "    # Compute chromagram, make it key invariant, and decompose \n",
    "    chromagram = librosa.feature.chroma_cqt(y=y_harm, sr=TARGET_SR, hop_length=HOP_LENGTH)\n",
    "    chroma_ki = make_key_invariant(chromagram)\n",
    "    chroma_acts = librosa.decompose.decompose(chroma_ki, n_components=3, sort=True)[1]\n",
    "    \n",
    "    # Compute tempogram, ensure non-negative b/c tempograms are finicky, and decompose \n",
    "    onset_env = librosa.onset.onset_strength(y=y_perc, sr=TARGET_SR, hop_length=HOP_LENGTH)\n",
    "    tempogram = np.clip(librosa.feature.tempogram(onset_envelope=onset_env, sr=TARGET_SR, hop_length=HOP_LENGTH), 0, None)\n",
    "    tempogram_acts = librosa.decompose.decompose(tempogram, n_components=3, sort=True)[1]\n",
    "    \n",
    "    # Compute MFCCs\n",
    "    mfccs = librosa.feature.mfcc(y=y, sr=TARGET_SR, n_mfcc=13, hop_length=HOP_LENGTH)\n",
    "    \n",
    "    # Calculate dimensions, total inverse dimension, and weights\n",
    "    features = [rms, mel_acts, chroma_ki, chroma_acts, tempogram_acts, mfccs]\n",
    "    feature_names = ['rms', 'mel_acts', 'chroma_ki', 'chroma_acts', 'tempogram_acts', 'mfccs']\n",
    "\n",
    "    # Calculate dimensions and weights\n",
    "    dims = {name: feature.shape[0] for feature, name in zip(features, feature_names)}\n",
    "    total_inv_dim = sum(1.0 / dim for dim in dims.values())\n",
    "    weights = {name: 1.0 / (dims[name] * total_inv_dim) for name in feature_names}\n",
    "\n",
    "    # Standardize and apply weights\n",
    "    standardized_weighted_features = [StandardScaler().fit_transform(feature.T).T * weights[name]\n",
    "                                       for feature, name in zip(features, feature_names)]\n",
    "    \n",
    "    # Stack/concat features\n",
    "    combined_features = np.concatenate(standardized_weighted_features, axis=0).T\n",
    " \n",
    "    # Tempo and beat tracking\n",
    "    tempo, beats = librosa.beat.beat_track(onset_envelope=onset_env, sr=TARGET_SR, hop_length=HOP_LENGTH)\n",
    "    beat_times = librosa.frames_to_time(beats, sr=TARGET_SR, hop_length=HOP_LENGTH)\n",
    "    data = df.loc[df['SongID'] == song_id]\n",
    "    bpm = data['sp_tempo'].fillna(tempo).replace(0, tempo).clip(lower=70, upper=140).values[0]\n",
    "    time_signature = int(data['sp_time_signature'].fillna(4).replace(0, 4).values[0])\n",
    "    beat_interval_in_frames = librosa.time_to_frames(60/bpm, sr=TARGET_SR, hop_length=HOP_LENGTH)\n",
    "\n",
    "    # Measure grid creation and label alignment\n",
    "    anchor_frame = find_anchor_frame(beats, bpm, TARGET_SR, HOP_LENGTH)\n",
    "    beat_grid, meter_grid = create_beat_grid(beats, anchor_frame, beat_interval_in_frames, time_signature, len(combined_features))\n",
    "    aligned_labels = generate_and_align_labels(data, sr=TARGET_SR, hop_length=HOP_LENGTH, n_frames=len(combined_features), measure_grid_frames=meter_grid)\n",
    "    meter_segments = segment_data_measures(combined_features, meter_grid)\n",
    "    \n",
    "    # Apply Hierarchical Positional Encoding\n",
    "    encoded_segments = apply_hierarchical_positional_encoding(meter_segments)\n",
    "\n",
    "    # Save results\n",
    "    with open(f\"{segment_dir}/{song_id}_data.pkl\", \"wb\") as f:\n",
    "        pickle.dump(encoded_segments, f)\n",
    "    with open(f\"{labels_dir}/{song_id}_labels.pkl\", \"wb\") as f:\n",
    "        pickle.dump(aligned_labels, f)"
   ]
  },
  {
   "cell_type": "markdown",
   "id": "5f7c60af",
   "metadata": {
    "tags": []
   },
   "source": [
    "## Load pickled data"
   ]
  },
  {
   "cell_type": "code",
   "execution_count": 4,
   "id": "34e27d6b-3a91-4403-8e8a-b3abe3cb7e79",
   "metadata": {
    "tags": []
   },
   "outputs": [],
   "source": [
    "def load_pickles_from_directory(directory):\n",
    "    all_data = []\n",
    "    for filename in os.listdir(directory):\n",
    "        if filename.endswith('.pkl'):\n",
    "            file_path = os.path.join(directory, filename)\n",
    "            with open(file_path, 'rb') as file:\n",
    "                data = pickle.load(file)\n",
    "                all_data.append(data)\n",
    "    return all_data\n",
    "    \n",
    "# Directories containing the pickled files\n",
    "segment_dir = \"../data/segments\"\n",
    "labels_dir = \"../data/labels\"\n",
    "\n",
    "# Load all segments and labels\n",
    "all_segments = load_pickles_from_directory(segment_dir)\n",
    "all_labels = load_pickles_from_directory(labels_dir)\n",
    "\n",
    "# all_segments is a 3D array of `[n_songs, n_segments, 36]`, where `n_segments` varies per song and may require additional padding for consistent processing."
   ]
  },
  {
   "cell_type": "markdown",
   "id": "5ca7eb54",
   "metadata": {},
   "source": [
    "## Padding and reshaping"
   ]
  },
  {
   "cell_type": "code",
   "execution_count": 6,
   "id": "bd5a2b3c",
   "metadata": {
    "tags": []
   },
   "outputs": [],
   "source": [
    "def find_max_frames_and_meters(all_segments):\n",
    "    \"\"\"Find the maximum number of frames per measure and the maximum number of measures across all songs.\"\"\"\n",
    "    max_frames_per_measure = max(max(m.shape[0] for m in s) for s in all_segments)\n",
    "    max_measures = max(len(s) for s in all_segments)\n",
    "    return max_frames_per_measure, max_measures\n",
    "\n",
    "def pad_measures(all_segments, max_frames_per_measure):\n",
    "    \"\"\"Pad all measures within each song to have the same number of frames with zero padding.\"\"\"\n",
    "    padded_measures = [\n",
    "        [np.pad(m, ((0, max_frames_per_measure - m.shape[0]), (0, 0)), 'constant', constant_values=0) for m in song]\n",
    "        for song in all_segments\n",
    "    ]\n",
    "    return padded_measures\n",
    "\n",
    "def pad_songs(padded_measures, max_measures, max_frames_per_measure, n_features):\n",
    "    \"\"\"Pad all songs to have the same number of measures with zero padding.\"\"\"\n",
    "    padding_measure = np.zeros((max_frames_per_measure, n_features))\n",
    "    padded_songs = [\n",
    "        song + [padding_measure] * (max_measures - len(song)) for song in padded_measures\n",
    "    ]\n",
    "    return padded_songs\n",
    "\n",
    "def pad_labels(all_labels, max_measures):\n",
    "    \"\"\"Pad all label sequences to have the same number of measures with -1 padding.\"\"\"\n",
    "    return [np.pad(labels, (0, max_measures - len(labels)), 'constant', constant_values=-1)\n",
    "            for labels in all_labels]\n",
    "\n",
    "n_features = all_segments[0][0].shape[1]\n",
    "max_frames_per_measure, max_measures = find_max_frames_and_meters(all_segments) # Find the maximum frames per measure and maximum measures across all songs\n",
    "padded_measures = pad_measures(all_segments, max_frames_per_measure) # pad measures within each song to have the same number of frames\n",
    "padded_songs = pad_songs(padded_measures, max_measures, max_frames_per_measure, n_features) # pad all songs to have the same number of measures\n",
    "padded_labels = pad_labels(all_labels, max_measures) # Pad labels to match the structure of padded_segments"
   ]
  },
  {
   "cell_type": "markdown",
   "id": "77f91ea4",
   "metadata": {},
   "source": [
    "## Generate train, validation, and test sets"
   ]
  },
  {
   "cell_type": "code",
   "execution_count": 8,
   "id": "a0e6b32b-c45e-4211-a584-391584c15d0d",
   "metadata": {
    "tags": []
   },
   "outputs": [],
   "source": [
    "def split_data(padded_songs, padded_labels):\n",
    "    \"\"\"Split the data into train, validation, and test sets.\"\"\"\n",
    "    num_songs = len(padded_songs)\n",
    "    indices = np.arange(num_songs)\n",
    "    train_indices, temp_indices = train_test_split(indices, test_size=0.3, random_state=42)\n",
    "    val_indices, test_indices = train_test_split(temp_indices, test_size=0.5, random_state=42)\n",
    "    \n",
    "    X_train = [padded_songs[i] for i in train_indices]\n",
    "    y_train = [padded_labels[i] for i in train_indices]\n",
    "    X_val = [padded_songs[i] for i in val_indices]\n",
    "    y_val = [padded_labels[i] for i in val_indices]\n",
    "    X_test = [padded_songs[i] for i in test_indices]\n",
    "    y_test = [padded_labels[i] for i in test_indices]\n",
    "    \n",
    "    return X_train, y_train, X_val, y_val, X_test, y_test\n",
    "\n",
    "def data_generator(X, y):\n",
    "    \"\"\"Generator function to yield batches of data.\"\"\"\n",
    "    for features, labels in zip(X, y):\n",
    "        # Convert features to a NumPy array with shape: (num_measures, num_frames, 32)\n",
    "        features_array = np.array(features)\n",
    "        \n",
    "        # Reshape labels to have an additional dimension: (num_measures, 1)\n",
    "        labels_reshaped = np.expand_dims(labels, axis=-1)\n",
    "        \n",
    "        yield features_array, labels_reshaped\n",
    "\n",
    "def create_dataset(X, y, batch_size, n_features):\n",
    "    \"\"\"Create a TensorFlow dataset from the generator function.\"\"\"\n",
    "    dataset = tf.data.Dataset.from_generator(\n",
    "        lambda: data_generator(X, y),\n",
    "        output_signature=(\n",
    "            tf.TensorSpec(shape=(None, None, n_features), dtype=tf.float32),\n",
    "            tf.TensorSpec(shape=(None, 1), dtype=tf.float32)\n",
    "        )\n",
    "    ).batch(batch_size)\n",
    "    \n",
    "    return dataset\n",
    "\n",
    "# Split the data into train, validation, and test sets\n",
    "X_train, y_train, X_val, y_val, X_test, y_test = split_data(padded_songs, padded_labels)\n",
    "\n",
    "# Define the batch size as the number of songs per batch\n",
    "batch_size = 32\n",
    "\n",
    "# Create the train, validation, and test datasets\n",
    "train_dataset = create_dataset(X_train, y_train, batch_size, n_features)\n",
    "val_dataset = create_dataset(X_val, y_val, batch_size, n_features)\n",
    "test_dataset = create_dataset(X_test, y_test, batch_size, n_features)"
   ]
  },
  {
   "cell_type": "markdown",
   "id": "2b1ac2bc",
   "metadata": {},
   "source": [
    "## Define CRNN model and custom loss/accuracy and metrics"
   ]
  },
  {
   "cell_type": "code",
   "execution_count": 9,
   "id": "c98d99b0-0960-4a4f-8754-317bc2a24310",
   "metadata": {
    "tags": []
   },
   "outputs": [],
   "source": [
    "def custom_binary_crossentropy(y_true, y_pred):\n",
    "    \"\"\"Custom binary cross-entropy loss to handle -1 labels, which are used for padding and should be ignored during loss calculation.\"\"\"\n",
    "    y_true = tf.cast(y_true, tf.float32)\n",
    "    bce = tf.keras.backend.binary_crossentropy(y_true, y_pred)\n",
    "    mask = tf.cast(tf.not_equal(y_true, -1), tf.float32)\n",
    "    loss = bce * mask\n",
    "    return tf.reduce_sum(loss) / tf.reduce_sum(mask)\n",
    "\n",
    "def custom_accuracy(y_true, y_pred):\n",
    "    \"\"\"Custom accuracy metric to handle -1 labels, which are used for padding and should be ignored during accuracy calculation.\"\"\"\n",
    "    mask = tf.cast(tf.not_equal(y_true, -1), tf.float32)\n",
    "    correct_predictions = tf.equal(tf.cast(tf.round(y_pred), tf.float32), y_true)\n",
    "    masked_correct_predictions = tf.cast(correct_predictions, tf.float32) * mask\n",
    "    accuracy = tf.reduce_sum(masked_correct_predictions) / tf.reduce_sum(mask)\n",
    "    return accuracy\n",
    "\n",
    "def create_crnn_model(max_frames_per_measure, max_measures, feature_per_frame):\n",
    "    \"\"\"\n",
    "    Args:\n",
    "    max_frames_per_measure (int): Maximum number of frames per measure.\n",
    "    max_measures (int): Maximum number of measures.\n",
    "    feature_per_frame (int): Number of features per frame.\n",
    "    \"\"\"\n",
    "    frame_input = layers.Input(shape=(max_frames_per_measure, feature_per_frame))\n",
    "    conv1 = layers.Conv1D(filters=128, kernel_size=3, activation='relu', padding='same')(frame_input)\n",
    "    pool1 = layers.MaxPooling1D(pool_size=2, padding='same')(conv1)\n",
    "    conv2 = layers.Conv1D(filters=256, kernel_size=3, activation='relu', padding='same')(pool1)\n",
    "    pool2 = layers.MaxPooling1D(pool_size=2, padding='same')(conv2)\n",
    "    conv3 = layers.Conv1D(filters=256, kernel_size=3, activation='relu', padding='same')(pool2)\n",
    "    pool3 = layers.MaxPooling1D(pool_size=2, padding='same')(conv3)\n",
    "    frame_features = layers.Flatten()(pool3)\n",
    "    frame_feature_model = Model(inputs=frame_input, outputs=frame_features)\n",
    "\n",
    "    measure_input = layers.Input(shape=(max_measures, max_frames_per_measure, feature_per_frame))\n",
    "    time_distributed = layers.TimeDistributed(frame_feature_model)(measure_input)\n",
    "    masking_layer = layers.Masking(mask_value=0.0)(time_distributed)\n",
    "    lstm_out = layers.Bidirectional(layers.LSTM(256, return_sequences=True))(masking_layer)\n",
    "    output = layers.TimeDistributed(layers.Dense(1, activation='sigmoid'))(lstm_out)\n",
    "    model = Model(inputs=measure_input, outputs=output)\n",
    "    model.compile(optimizer='adam', loss=custom_binary_crossentropy, metrics=[custom_accuracy])\n",
    "    return model"
   ]
  },
  {
   "cell_type": "code",
   "execution_count": 10,
   "id": "1c11666c-670f-4836-a541-2f41bca6ee8a",
   "metadata": {
    "tags": []
   },
   "outputs": [
    {
     "name": "stdout",
     "output_type": "stream",
     "text": [
      "Model: \"model_1\"\n",
      "_________________________________________________________________\n",
      " Layer (type)                Output Shape              Param #   \n",
      "=================================================================\n",
      " input_2 (InputLayer)        [(None, 204, 296, 36)]    0         \n",
      "                                                                 \n",
      " time_distributed (TimeDistr  (None, 204, 9472)        309376    \n",
      " ibuted)                                                         \n",
      "                                                                 \n",
      " masking (Masking)           (None, 204, 9472)         0         \n",
      "                                                                 \n",
      " bidirectional (Bidirectiona  (None, 204, 512)         19924992  \n",
      " l)                                                              \n",
      "                                                                 \n",
      " time_distributed_1 (TimeDis  (None, 204, 1)           513       \n",
      " tributed)                                                       \n",
      "                                                                 \n",
      "=================================================================\n",
      "Total params: 20,234,881\n",
      "Trainable params: 20,234,881\n",
      "Non-trainable params: 0\n",
      "_________________________________________________________________\n"
     ]
    }
   ],
   "source": [
    "feature_per_frame = n_features\n",
    "# max_frames_per_measure, max_measures = find_max_frames_and_measures(all_segments)\n",
    "model = create_crnn_model(max_frames_per_measure, max_measures, feature_per_frame)\n",
    "model.summary()"
   ]
  },
  {
   "cell_type": "markdown",
   "id": "cf60b648",
   "metadata": {},
   "source": [
    "## Train the model"
   ]
  },
  {
   "cell_type": "code",
   "execution_count": 17,
   "id": "40afcea6-1bd1-4ccb-9fe3-07d0acb31b68",
   "metadata": {
    "tags": []
   },
   "outputs": [
    {
     "name": "stdout",
     "output_type": "stream",
     "text": [
      "Epoch 1/20\n",
      "      8/Unknown - 49s 6s/step - loss: 0.5483 - custom_accuracy: 0.7068\n",
      "Epoch 1: val_loss improved from inf to 0.52319, saving model to ..\\models\\CRNN\\best_model.h5\n",
      "8/8 [==============================] - 53s 7s/step - loss: 0.5483 - custom_accuracy: 0.7068 - val_loss: 0.5232 - val_custom_accuracy: 0.7332 - lr: 0.0010\n",
      "Epoch 2/20\n",
      "8/8 [==============================] - ETA: 0s - loss: 0.5141 - custom_accuracy: 0.7417\n",
      "Epoch 2: val_loss improved from 0.52319 to 0.49905, saving model to ..\\models\\CRNN\\best_model.h5\n",
      "8/8 [==============================] - 53s 7s/step - loss: 0.5141 - custom_accuracy: 0.7417 - val_loss: 0.4991 - val_custom_accuracy: 0.7527 - lr: 0.0010\n",
      "Epoch 3/20\n",
      "8/8 [==============================] - ETA: 0s - loss: 0.4742 - custom_accuracy: 0.7720\n",
      "Epoch 3: val_loss improved from 0.49905 to 0.47222, saving model to ..\\models\\CRNN\\best_model.h5\n",
      "8/8 [==============================] - 54s 7s/step - loss: 0.4742 - custom_accuracy: 0.7720 - val_loss: 0.4722 - val_custom_accuracy: 0.7712 - lr: 0.0010\n",
      "Epoch 4/20\n",
      "8/8 [==============================] - ETA: 0s - loss: 0.4321 - custom_accuracy: 0.8060\n",
      "Epoch 4: val_loss improved from 0.47222 to 0.42531, saving model to ..\\models\\CRNN\\best_model.h5\n",
      "8/8 [==============================] - 52s 7s/step - loss: 0.4321 - custom_accuracy: 0.8060 - val_loss: 0.4253 - val_custom_accuracy: 0.8077 - lr: 0.0010\n",
      "Epoch 5/20\n",
      "8/8 [==============================] - ETA: 0s - loss: 0.4573 - custom_accuracy: 0.7737\n",
      "Epoch 5: val_loss did not improve from 0.42531\n",
      "8/8 [==============================] - 52s 7s/step - loss: 0.4573 - custom_accuracy: 0.7737 - val_loss: 0.4531 - val_custom_accuracy: 0.7886 - lr: 0.0010\n",
      "Epoch 6/20\n",
      "8/8 [==============================] - ETA: 0s - loss: 0.4111 - custom_accuracy: 0.8159\n",
      "Epoch 6: val_loss improved from 0.42531 to 0.39283, saving model to ..\\models\\CRNN\\best_model.h5\n",
      "8/8 [==============================] - 53s 7s/step - loss: 0.4111 - custom_accuracy: 0.8159 - val_loss: 0.3928 - val_custom_accuracy: 0.8223 - lr: 0.0010\n",
      "Epoch 7/20\n",
      "8/8 [==============================] - ETA: 0s - loss: 0.3671 - custom_accuracy: 0.8386\n",
      "Epoch 7: val_loss improved from 0.39283 to 0.36662, saving model to ..\\models\\CRNN\\best_model.h5\n",
      "8/8 [==============================] - 53s 7s/step - loss: 0.3671 - custom_accuracy: 0.8386 - val_loss: 0.3666 - val_custom_accuracy: 0.8367 - lr: 0.0010\n",
      "Epoch 8/20\n",
      "8/8 [==============================] - ETA: 0s - loss: 0.3664 - custom_accuracy: 0.8315\n",
      "Epoch 8: val_loss improved from 0.36662 to 0.36557, saving model to ..\\models\\CRNN\\best_model.h5\n",
      "8/8 [==============================] - 53s 7s/step - loss: 0.3664 - custom_accuracy: 0.8315 - val_loss: 0.3656 - val_custom_accuracy: 0.8380 - lr: 0.0010\n",
      "Epoch 9/20\n",
      "8/8 [==============================] - ETA: 0s - loss: 0.3409 - custom_accuracy: 0.8478\n",
      "Epoch 9: val_loss did not improve from 0.36557\n",
      "8/8 [==============================] - 53s 7s/step - loss: 0.3409 - custom_accuracy: 0.8478 - val_loss: 0.3802 - val_custom_accuracy: 0.8320 - lr: 0.0010\n",
      "Epoch 10/20\n",
      "8/8 [==============================] - ETA: 0s - loss: 0.3258 - custom_accuracy: 0.8595\n",
      "Epoch 10: val_loss improved from 0.36557 to 0.32873, saving model to ..\\models\\CRNN\\best_model.h5\n",
      "8/8 [==============================] - 54s 7s/step - loss: 0.3258 - custom_accuracy: 0.8595 - val_loss: 0.3287 - val_custom_accuracy: 0.8498 - lr: 0.0010\n",
      "Epoch 11/20\n",
      "8/8 [==============================] - ETA: 0s - loss: 0.2953 - custom_accuracy: 0.8744\n",
      "Epoch 11: val_loss did not improve from 0.32873\n",
      "8/8 [==============================] - 52s 7s/step - loss: 0.2953 - custom_accuracy: 0.8744 - val_loss: 0.3305 - val_custom_accuracy: 0.8414 - lr: 0.0010\n",
      "Epoch 12/20\n",
      "8/8 [==============================] - ETA: 0s - loss: 0.2912 - custom_accuracy: 0.8769\n",
      "Epoch 12: val_loss improved from 0.32873 to 0.31447, saving model to ..\\models\\CRNN\\best_model.h5\n",
      "8/8 [==============================] - 53s 7s/step - loss: 0.2912 - custom_accuracy: 0.8769 - val_loss: 0.3145 - val_custom_accuracy: 0.8563 - lr: 0.0010\n",
      "Epoch 13/20\n",
      "8/8 [==============================] - ETA: 0s - loss: 0.2950 - custom_accuracy: 0.8749\n",
      "Epoch 13: val_loss did not improve from 0.31447\n",
      "8/8 [==============================] - 53s 7s/step - loss: 0.2950 - custom_accuracy: 0.8749 - val_loss: 0.4065 - val_custom_accuracy: 0.8059 - lr: 0.0010\n",
      "Epoch 14/20\n",
      "8/8 [==============================] - ETA: 0s - loss: 0.3123 - custom_accuracy: 0.8628\n",
      "Epoch 14: val_loss improved from 0.31447 to 0.30721, saving model to ..\\models\\CRNN\\best_model.h5\n",
      "8/8 [==============================] - 54s 7s/step - loss: 0.3123 - custom_accuracy: 0.8628 - val_loss: 0.3072 - val_custom_accuracy: 0.8559 - lr: 0.0010\n",
      "Epoch 15/20\n",
      "8/8 [==============================] - ETA: 0s - loss: 0.3647 - custom_accuracy: 0.8337\n",
      "Epoch 15: val_loss improved from 0.30721 to 0.30515, saving model to ..\\models\\CRNN\\best_model.h5\n",
      "8/8 [==============================] - 54s 7s/step - loss: 0.3647 - custom_accuracy: 0.8337 - val_loss: 0.3051 - val_custom_accuracy: 0.8621 - lr: 0.0010\n",
      "Epoch 16/20\n",
      "8/8 [==============================] - ETA: 0s - loss: 0.3103 - custom_accuracy: 0.8636\n",
      "Epoch 16: val_loss did not improve from 0.30515\n",
      "8/8 [==============================] - 53s 7s/step - loss: 0.3103 - custom_accuracy: 0.8636 - val_loss: 0.3129 - val_custom_accuracy: 0.8657 - lr: 0.0010\n",
      "Epoch 17/20\n",
      "8/8 [==============================] - ETA: 0s - loss: 0.2735 - custom_accuracy: 0.8896\n",
      "Epoch 17: val_loss improved from 0.30515 to 0.29476, saving model to ..\\models\\CRNN\\best_model.h5\n",
      "8/8 [==============================] - 54s 7s/step - loss: 0.2735 - custom_accuracy: 0.8896 - val_loss: 0.2948 - val_custom_accuracy: 0.8646 - lr: 0.0010\n",
      "Epoch 18/20\n",
      "8/8 [==============================] - ETA: 0s - loss: 0.2686 - custom_accuracy: 0.8867\n",
      "Epoch 18: val_loss did not improve from 0.29476\n",
      "8/8 [==============================] - 53s 7s/step - loss: 0.2686 - custom_accuracy: 0.8867 - val_loss: 0.3146 - val_custom_accuracy: 0.8759 - lr: 0.0010\n",
      "Epoch 19/20\n",
      "8/8 [==============================] - ETA: 0s - loss: 0.2604 - custom_accuracy: 0.8932\n",
      "Epoch 19: val_loss improved from 0.29476 to 0.28382, saving model to ..\\models\\CRNN\\best_model.h5\n",
      "8/8 [==============================] - 53s 7s/step - loss: 0.2604 - custom_accuracy: 0.8932 - val_loss: 0.2838 - val_custom_accuracy: 0.8742 - lr: 0.0010\n",
      "Epoch 20/20\n",
      "8/8 [==============================] - ETA: 0s - loss: 0.2311 - custom_accuracy: 0.9055\n",
      "Epoch 20: val_loss improved from 0.28382 to 0.28085, saving model to ..\\models\\CRNN\\best_model.h5\n",
      "8/8 [==============================] - 54s 7s/step - loss: 0.2311 - custom_accuracy: 0.9055 - val_loss: 0.2808 - val_custom_accuracy: 0.8830 - lr: 0.0010\n"
     ]
    }
   ],
   "source": [
    "def train_model(model, model_name, epochs=10, train_dataset=train_dataset, val_dataset=val_dataset):\n",
    "    \"\"\"Trains a given model and saves the best version based on minimizing loss.\"\"\"\n",
    "\n",
    "    # Define the directories for checkpoints and models\n",
    "    checkpoint_dir = os.path.join('..', 'checkpoints', 'CRNN')\n",
    "    model_dir = os.path.join('..', 'models', 'CRNN')\n",
    "\n",
    "    # Ensure the checkpoint and model directories exist\n",
    "    os.makedirs(checkpoint_dir, exist_ok=True)\n",
    "    os.makedirs(model_dir, exist_ok=True)\n",
    "\n",
    "    # Define the checkpoint path for the best model\n",
    "    best_model_filepath = os.path.join(model_dir, model_name + '.h5')\n",
    "\n",
    "    callbacks = [\n",
    "        ModelCheckpoint(\n",
    "            filepath=best_model_filepath,\n",
    "            save_weights_only=False,\n",
    "            monitor='val_loss', \n",
    "            mode='min',  # 'min' since we want to minimize loss\n",
    "            save_best_only=True,\n",
    "            verbose=1\n",
    "        ),\n",
    "        EarlyStopping(\n",
    "            monitor='val_loss',\n",
    "            patience=3,\n",
    "            verbose=1,\n",
    "            restore_best_weights=True\n",
    "        ),\n",
    "        ReduceLROnPlateau(\n",
    "            monitor='val_loss',\n",
    "            factor=0.1,\n",
    "            patience=2,\n",
    "            verbose=1,\n",
    "            min_delta=0.0001,\n",
    "            min_lr=0.00001\n",
    "        )\n",
    "    ]\n",
    "\n",
    "    # Train the model with the simplified callbacks list\n",
    "    history = model.fit(\n",
    "        train_dataset,\n",
    "        epochs=epochs,\n",
    "        validation_data=val_dataset,\n",
    "        callbacks=callbacks\n",
    "    )\n",
    "\n",
    "    return history\n",
    "\n",
    "history = train_model(model, 'best_model', epochs=20)"
   ]
  },
  {
   "cell_type": "markdown",
   "id": "93c6739d",
   "metadata": {},
   "source": [
    "## Evaluate model"
   ]
  },
  {
   "cell_type": "code",
   "execution_count": 18,
   "id": "754a768e",
   "metadata": {
    "tags": []
   },
   "outputs": [
    {
     "data": {
      "image/png": "[encoded data removed]",
      "text/plain": [
       "<Figure size 1200x400 with 2 Axes>"
      ]
     },
     "metadata": {},
     "output_type": "display_data"
    }
   ],
   "source": [
    "def plot_training_history(history):\n",
    "    plt.figure(figsize=(12, 4))\n",
    "\n",
    "    plt.subplot(1, 2, 1)\n",
    "    plt.plot(history.history['loss'])\n",
    "    plt.plot(history.history['val_loss'])\n",
    "    plt.title('Model Loss')\n",
    "    plt.ylabel('Loss')\n",
    "    plt.xlabel('Epoch')\n",
    "    plt.legend(['Train', 'Validation'], loc='upper left')\n",
    "\n",
    "    # Plot training & validation accuracy values\n",
    "    plt.subplot(1, 2, 2)\n",
    "    plt.plot(history.history['custom_accuracy'])  \n",
    "    plt.plot(history.history['val_custom_accuracy'])  \n",
    "    plt.title('Model Accuracy')\n",
    "    plt.ylabel('Accuracy')\n",
    "    plt.xlabel('Epoch')\n",
    "    plt.legend(['Train', 'Validation'], loc='upper left')\n",
    "\n",
    "    plt.tight_layout()\n",
    "    plt.show()\n",
    "\n",
    "plot_training_history(history)"
   ]
  },
  {
   "cell_type": "markdown",
   "id": "77f6d382-ea66-4dcf-b471-df8b8054c540",
   "metadata": {},
   "source": [
    "Adding dropout although it might not be neccessary"
   ]
  },
  {
   "cell_type": "code",
   "execution_count": 19,
   "id": "a28935a4-e3e8-4bfd-b10a-a1aae195c473",
   "metadata": {
    "tags": []
   },
   "outputs": [
    {
     "name": "stdout",
     "output_type": "stream",
     "text": [
      "Model: \"model_3\"\n",
      "_________________________________________________________________\n",
      " Layer (type)                Output Shape              Param #   \n",
      "=================================================================\n",
      " input_4 (InputLayer)        [(None, 204, 296, 36)]    0         \n",
      "                                                                 \n",
      " time_distributed_2 (TimeDis  (None, 204, 9472)        309376    \n",
      " tributed)                                                       \n",
      "                                                                 \n",
      " masking_1 (Masking)         (None, 204, 9472)         0         \n",
      "                                                                 \n",
      " bidirectional_1 (Bidirectio  (None, 204, 512)         19924992  \n",
      " nal)                                                            \n",
      "                                                                 \n",
      " time_distributed_3 (TimeDis  (None, 204, 1)           513       \n",
      " tributed)                                                       \n",
      "                                                                 \n",
      "=================================================================\n",
      "Total params: 20,234,881\n",
      "Trainable params: 20,234,881\n",
      "Non-trainable params: 0\n",
      "_________________________________________________________________\n"
     ]
    }
   ],
   "source": [
    "def create_crnn_model_with_dropout(max_frames_per_measure, max_measures, feature_per_frame):\n",
    "    frame_input = layers.Input(shape=(max_frames_per_measure, feature_per_frame))\n",
    "    conv1 = layers.Conv1D(filters=128, kernel_size=3, activation='relu', padding='same')(frame_input)\n",
    "    pool1 = layers.MaxPooling1D(pool_size=2, padding='same')(conv1)\n",
    "    dropout1 = layers.Dropout(0.3)(pool1)\n",
    "    conv2 = layers.Conv1D(filters=256, kernel_size=3, activation='relu', padding='same')(dropout1)\n",
    "    pool2 = layers.MaxPooling1D(pool_size=2, padding='same')(conv2)\n",
    "    dropout2 = layers.Dropout(0.3)(pool2)\n",
    "    conv3 = layers.Conv1D(filters=256, kernel_size=3, activation='relu', padding='same')(dropout2)\n",
    "    pool3 = layers.MaxPooling1D(pool_size=2, padding='same')(conv3)\n",
    "    frame_features = layers.Flatten()(pool3)\n",
    "    frame_feature_model = Model(inputs=frame_input, outputs=frame_features)\n",
    "\n",
    "    measure_input = layers.Input(shape=(max_measures, max_frames_per_measure, feature_per_frame))\n",
    "    time_distributed = layers.TimeDistributed(frame_feature_model)(measure_input)\n",
    "    masking_layer = layers.Masking(mask_value=0.0)(time_distributed)\n",
    "    lstm_out = layers.Bidirectional(layers.LSTM(256, return_sequences=True))(masking_layer)\n",
    "    output = layers.TimeDistributed(layers.Dense(1, activation='sigmoid'))(lstm_out)\n",
    "    model = Model(inputs=measure_input, outputs=output)\n",
    "    model.compile(optimizer='adam', loss=custom_binary_crossentropy, metrics=[custom_accuracy])\n",
    "    return model\n",
    "\n",
    "model_with_dropout = create_crnn_model_with_dropout(max_frames_per_measure, max_measures, feature_per_frame)\n",
    "model_with_dropout.summary()"
   ]
  },
  {
   "cell_type": "code",
   "execution_count": null,
   "id": "78413529-7e28-44f1-bcd2-81d54714a7e9",
   "metadata": {
    "tags": []
   },
   "outputs": [],
   "source": [
    "history2 = train_model(model_with_dropout, \"best_model_with_dropout\", epochs=30, train_dataset=train_dataset, val_dataset=val_dataset)"
   ]
  },
  {
   "cell_type": "code",
   "execution_count": 22,
   "id": "7c88a61f-2cae-4b4e-8ce9-08e56066dba7",
   "metadata": {
    "tags": []
   },
   "outputs": [
    {
     "data": {
      "image/png": "[encoded data removed]",
      "text/plain": [
       "<Figure size 1200x400 with 2 Axes>"
      ]
     },
     "metadata": {},
     "output_type": "display_data"
    }
   ],
   "source": [
    "plot_training_history(history2)"
   ]
  },
  {
   "cell_type": "markdown",
   "id": "484af9b5",
   "metadata": {
    "tags": []
   },
   "source": [
    "## Evaluate the model"
   ]
  },
  {
   "cell_type": "code",
   "execution_count": 23,
   "id": "f4806ee4-e6d0-410c-8bdb-d9f66124f831",
   "metadata": {
    "tags": []
   },
   "outputs": [
    {
     "name": "stdout",
     "output_type": "stream",
     "text": [
      "2/2 [==============================] - 5s 2s/step - loss: 0.2343 - custom_accuracy: 0.8997\n",
      "Test Loss: 0.2343151718378067\n",
      "Test Accuracy: 0.8996654748916626\n"
     ]
    }
   ],
   "source": [
    "# Define custom objects\n",
    "custom_objects = {\n",
    "    'custom_binary_crossentropy': custom_binary_crossentropy,\n",
    "    'custom_accuracy': custom_accuracy\n",
    "}\n",
    "\n",
    "# Load the best model\n",
    "model_dir = os.path.join('..', 'models', 'CRNN')\n",
    "best_model_filepath = os.path.join(model_dir, 'best_model.h5')\n",
    "best_model = load_model(best_model_filepath, custom_objects=custom_objects)\n",
    "\n",
    "# Evaluate the model on the test dataset\n",
    "test_loss, test_accuracy = best_model.evaluate(test_dataset, verbose=1)\n",
    "\n",
    "# Print the results\n",
    "print(f\"Test Loss: {test_loss}\")\n",
    "print(f\"Test Accuracy: {test_accuracy}\")"
   ]
  },
  {
   "cell_type": "code",
   "execution_count": 24,
   "id": "5239e620-41b3-4225-98d7-2d8f222535f0",
   "metadata": {
    "tags": []
   },
   "outputs": [
    {
     "name": "stdout",
     "output_type": "stream",
     "text": [
      "2/2 [==============================] - 4s 1s/step\n"
     ]
    }
   ],
   "source": [
    "predictions = best_model.predict(test_dataset)\n",
    "predicted_labels = np.round(predictions).astype(int) "
   ]
  },
  {
   "cell_type": "code",
   "execution_count": 34,
   "id": "2521a7fa-223e-4427-b869-78031504b817",
   "metadata": {
    "tags": []
   },
   "outputs": [
    {
     "name": "stdout",
     "output_type": "stream",
     "text": [
      "F1 Score: 0.876\n"
     ]
    }
   ],
   "source": [
    "true_labels = []\n",
    "for _, labels in test_dataset:\n",
    "    true_labels.extend(labels.numpy()) \n",
    "\n",
    "true_labels = np.array(true_labels).astype(int) \n",
    "\n",
    "# Flatten the arrays\n",
    "true_labels_flat = true_labels.flatten()\n",
    "predicted_labels_flat = predicted_labels.flatten()\n",
    "\n",
    "# Exclude indices with -1 in true labels\n",
    "valid_indices = true_labels_flat != -1\n",
    "\n",
    "# Filter both true and predicted labels to include only valid indices\n",
    "true_labels_filtered = true_labels_flat[valid_indices]\n",
    "predicted_labels_filtered = predicted_labels_flat[valid_indices]\n",
    "\n",
    "# Calculate F1 score\n",
    "f1 = f1_score(true_labels_filtered, predicted_labels_filtered, average='binary')\n",
    "\n",
    "print(f\"F1 Score: {f1:.3f}\")"
   ]
  },
  {
   "cell_type": "code",
   "execution_count": 33,
   "id": "02a0cf9c-85fc-4e8c-9b2b-454b04130169",
   "metadata": {
    "tags": []
   },
   "outputs": [
    {
     "data": {
      "image/png": "[encoded data removed]",
      "text/plain": [
       "<Figure size 1000x700 with 2 Axes>"
      ]
     },
     "metadata": {},
     "output_type": "display_data"
    }
   ],
   "source": [
    "cm = confusion_matrix(true_labels_filtered, predicted_labels_filtered)\n",
    "\n",
    "# Plotting the confusion matrix\n",
    "plt.figure(figsize=(10, 7))\n",
    "sns.set(font_scale=1.4)  # for label size\n",
    "sns.heatmap(cm, annot=True, annot_kws={\"size\": 16}, fmt='g', cmap=\"Blues\", xticklabels=['Negative', 'Positive'], yticklabels=['Negative', 'Positive'])\n",
    "plt.xlabel('Predicted labels')\n",
    "plt.ylabel('True labels')\n",
    "plt.title('Confusion Matrix')\n",
    "plt.show()"
   ]
  },
  {
   "cell_type": "markdown",
   "id": "a01e15bc",
   "metadata": {},
   "source": [
    "## Visualizing model predictions "
   ]
  },
  {
   "cell_type": "code",
   "execution_count": 4,
   "id": "ce94ff80",
   "metadata": {
    "tags": []
   },
   "outputs": [],
   "source": [
    "import os\n",
    "import pickle\n",
    "\n",
    "def load_pickles_from_directory(directory, data_type):\n",
    "    all_data = {}\n",
    "    for filename in os.listdir(directory):\n",
    "        if filename.endswith('.pkl'):\n",
    "            # Extract the songid from the filename\n",
    "            # The filename is expected to be in the format \"{song_id}_{data_type}.pkl\"\n",
    "            song_id = filename.split('_')[0]\n",
    "            file_path = os.path.join(directory, filename)\n",
    "            with open(file_path, 'rb') as file:\n",
    "                data = pickle.load(file)\n",
    "                all_data[song_id] = data  # Use song_id as key\n",
    "    return all_data\n",
    "\n",
    "# Directories containing the pickled files\n",
    "segment_dir = \"../data/segments\"\n",
    "labels_dir = \"..data/labels\"\n",
    "\n",
    "# Load all segments and labels\n",
    "# Specify the data type when calling the function\n",
    "all_segments = load_pickles_from_directory(segment_dir, \"data\")\n",
    "all_labels = load_pickles_from_directory(labels_dir, \"labels\")"
   ]
  },
  {
   "cell_type": "code",
   "execution_count": 5,
   "id": "014e7f9b-39f9-4c45-a3c4-ca68befedd7b",
   "metadata": {
    "tags": []
   },
   "outputs": [],
   "source": [
    "def find_max_frames_and_meters(all_segments):\n",
    "    \"\"\"Find the maximum number of frames per measure and the maximum number of measures across all songs in the dictionary.\"\"\"\n",
    "    max_frames_per_measure = max([max([m.shape[0] for m in song]) for song in all_segments.values()])\n",
    "    max_measures = max([len(song) for song in all_segments.values()])\n",
    "    return max_frames_per_measure, max_measures\n",
    "\n",
    "def pad_measures(all_segments, max_frames_per_measure, n_features):\n",
    "    \"\"\"Pad all measures within each song to have the same number of frames with zero padding.\"\"\"\n",
    "    padded_segments = {}\n",
    "    for song_id, segments in all_segments.items():\n",
    "        padded_segments[song_id] = [np.pad(m, ((0, max_frames_per_measure - m.shape[0]), (0, 0)), 'constant', constant_values=0) for m in segments]\n",
    "    return padded_segments\n",
    "\n",
    "def pad_songs(padded_measures, max_measures, max_frames_per_measure, n_features):\n",
    "    \"\"\"Pad all songs to have the same number of meters with zero padding.\"\"\"\n",
    "    padded_songs = {}\n",
    "    padding_measure = np.zeros((max_frames_per_measure, n_features))\n",
    "    for song_id, measures in padded_measures.items():\n",
    "        padded_songs[song_id] = measures + [padding_measure] * (max_measures - len(measures))\n",
    "    return padded_songs\n",
    "\n",
    "def pad_labels(all_labels, max_measures):\n",
    "    \"\"\"Pad all label sequences to have the same number of meters with -1 padding.\"\"\"\n",
    "    padded_labels = {}\n",
    "    for song_id, labels in all_labels.items():\n",
    "        padded_labels[song_id] = np.pad(labels, (0, max_measures - len(labels)), 'constant', constant_values=-1)\n",
    "    return padded_labels\n",
    "\n",
    "# Assuming n_features is known, e.g., from the preprocessing steps\n",
    "n_features = next(iter(all_segments.values()))[0].shape[1]\n",
    "max_frames_per_measure, max_measures = find_max_frames_and_meters(all_segments)\n",
    "padded_measures = pad_measures(all_segments, max_frames_per_measure, n_features)\n",
    "padded_songs = pad_songs(padded_measures, max_measures, max_frames_per_measure, n_features)\n",
    "padded_labels = pad_labels(all_labels, max_measures)"
   ]
  },
  {
   "cell_type": "code",
   "execution_count": 11,
   "id": "21b4e40c",
   "metadata": {
    "tags": []
   },
   "outputs": [],
   "source": [
    "def split_data_dict(padded_songs, padded_labels):\n",
    "    \"\"\"Split the dataset (now in dictionary form) into train, validation, and test sets.\"\"\"\n",
    "    song_ids = list(padded_songs.keys())\n",
    "    train_ids, temp_ids = train_test_split(song_ids, test_size=0.3, random_state=42)\n",
    "    val_ids, test_ids = train_test_split(temp_ids, test_size=0.5, random_state=42)\n",
    "    \n",
    "    # Split the data based on the ids\n",
    "    X_train = {song_id: padded_songs[song_id] for song_id in train_ids}\n",
    "    y_train = {song_id: padded_labels[song_id] for song_id in train_ids}\n",
    "    \n",
    "    X_val = {song_id: padded_songs[song_id] for song_id in val_ids}\n",
    "    y_val = {song_id: padded_labels[song_id] for song_id in val_ids}\n",
    "    \n",
    "    X_test = {song_id: padded_songs[song_id] for song_id in test_ids}\n",
    "    y_test = {song_id: padded_labels[song_id] for song_id in test_ids}\n",
    "    \n",
    "    return X_train, y_train, X_val, y_val, X_test, y_test\n",
    "\n",
    "# Adapt the generator function to work with dictionary inputs\n",
    "def data_generator_dict(X, y):\n",
    "    \"\"\"Generator function to yield batches of data from dictionaries.\"\"\"\n",
    "    for song_id in X.keys():\n",
    "        features = np.array(X[song_id])\n",
    "        labels = np.expand_dims(y[song_id], axis=-1)\n",
    "        yield features, labels\n",
    "\n",
    "# Adjust the create_dataset function for dictionary inputs and to handle variable input shapes\n",
    "def create_dataset_dict(X, y, batch_size, n_features):\n",
    "    \"\"\"Create a TensorFlow dataset from the generator function for dictionary inputs.\"\"\"\n",
    "    dataset = tf.data.Dataset.from_generator(\n",
    "        lambda: data_generator_dict(X, y),\n",
    "        output_signature=(\n",
    "            tf.TensorSpec(shape=(None, None, n_features), dtype=tf.float32),\n",
    "            tf.TensorSpec(shape=(None, 1), dtype=tf.float32)\n",
    "        )\n",
    "    ).batch(batch_size=32, drop_remainder=True) # Consider using drop_remainder=True to handle variable sizes\n",
    "    \n",
    "    return dataset\n",
    "\n",
    "n_features=36\n",
    "batch_size =32\n",
    "X_train, y_train, X_val, y_val, X_test, y_test = split_data_dict(padded_songs, padded_labels)\n",
    "train_dataset = create_dataset_dict(X_train, y_train, batch_size, n_features)\n",
    "val_dataset = create_dataset_dict(X_val, y_val, batch_size, n_features)\n",
    "test_dataset = create_dataset_dict(X_test, y_test, batch_size, n_features)"
   ]
  },
  {
   "cell_type": "code",
   "execution_count": 13,
   "id": "0e8bfc85",
   "metadata": {
    "tags": []
   },
   "outputs": [],
   "source": [
    "def custom_binary_crossentropy(y_true, y_pred):\n",
    "    y_true = tf.cast(y_true, tf.float32)\n",
    "    bce = tf.keras.backend.binary_crossentropy(y_true, y_pred)\n",
    "    mask = tf.cast(tf.not_equal(y_true, -1), tf.float32)\n",
    "    loss = bce * mask\n",
    "    return tf.reduce_sum(loss) / tf.reduce_sum(mask)\n",
    "\n",
    "def custom_accuracy(y_true, y_pred):\n",
    "    mask = tf.cast(tf.not_equal(y_true, -1), tf.float32)\n",
    "    correct_predictions = tf.equal(tf.cast(tf.round(y_pred), tf.float32), y_true)\n",
    "    masked_correct_predictions = tf.cast(correct_predictions, tf.float32) * mask\n",
    "    accuracy = tf.reduce_sum(masked_correct_predictions) / tf.reduce_sum(mask)\n",
    "    return accuracy\n",
    "\n",
    "# Define custom objects\n",
    "custom_objects = {\n",
    "    'custom_binary_crossentropy': custom_binary_crossentropy,\n",
    "    'custom_accuracy': custom_accuracy\n",
    "}\n",
    "\n",
    "model_dir = os.path.join('..', 'models', 'CRNN')\n",
    "best_model_filepath = os.path.join(model_dir, 'best_model.h5')\n",
    "model = load_model(best_model_filepath, custom_objects=custom_objects)"
   ]
  },
  {
   "cell_type": "code",
   "execution_count": 21,
   "id": "6b7d4529-21f5-434a-8646-4c70062ff803",
   "metadata": {
    "tags": []
   },
   "outputs": [
    {
     "name": "stderr",
     "output_type": "stream",
     "text": [
      "  0%|          | 0/50 [00:00<?, ?it/s]"
     ]
    },
    {
     "name": "stdout",
     "output_type": "stream",
     "text": [
      "1/1 [==============================] - 0s 451ms/step\n"
     ]
    },
    {
     "name": "stderr",
     "output_type": "stream",
     "text": [
      "  2%|▏         | 1/50 [00:09<07:47,  9.55s/it]"
     ]
    },
    {
     "name": "stdout",
     "output_type": "stream",
     "text": [
      "1/1 [==============================] - 0s 466ms/step\n"
     ]
    },
    {
     "name": "stderr",
     "output_type": "stream",
     "text": [
      "  4%|▍         | 2/50 [00:17<06:44,  8.42s/it]"
     ]
    },
    {
     "name": "stdout",
     "output_type": "stream",
     "text": [
      "1/1 [==============================] - 0s 440ms/step\n"
     ]
    },
    {
     "name": "stderr",
     "output_type": "stream",
     "text": [
      "  6%|▌         | 3/50 [00:23<05:46,  7.38s/it]"
     ]
    },
    {
     "name": "stdout",
     "output_type": "stream",
     "text": [
      "1/1 [==============================] - 0s 445ms/step\n"
     ]
    },
    {
     "name": "stderr",
     "output_type": "stream",
     "text": [
      "  8%|▊         | 4/50 [00:31<05:48,  7.57s/it]"
     ]
    },
    {
     "name": "stdout",
     "output_type": "stream",
     "text": [
      "1/1 [==============================] - 0s 447ms/step\n"
     ]
    },
    {
     "name": "stderr",
     "output_type": "stream",
     "text": [
      " 10%|█         | 5/50 [00:37<05:28,  7.29s/it]"
     ]
    },
    {
     "name": "stdout",
     "output_type": "stream",
     "text": [
      "1/1 [==============================] - 0s 449ms/step\n"
     ]
    },
    {
     "name": "stderr",
     "output_type": "stream",
     "text": [
      " 12%|█▏        | 6/50 [00:46<05:39,  7.72s/it]"
     ]
    },
    {
     "name": "stdout",
     "output_type": "stream",
     "text": [
      "1/1 [==============================] - 0s 438ms/step\n"
     ]
    },
    {
     "name": "stderr",
     "output_type": "stream",
     "text": [
      " 14%|█▍        | 7/50 [00:54<05:36,  7.83s/it]"
     ]
    },
    {
     "name": "stdout",
     "output_type": "stream",
     "text": [
      "1/1 [==============================] - 0s 444ms/step\n"
     ]
    },
    {
     "name": "stderr",
     "output_type": "stream",
     "text": [
      " 16%|█▌        | 8/50 [01:06<06:22,  9.12s/it]"
     ]
    },
    {
     "name": "stdout",
     "output_type": "stream",
     "text": [
      "1/1 [==============================] - 0s 450ms/step\n"
     ]
    },
    {
     "name": "stderr",
     "output_type": "stream",
     "text": [
      " 18%|█▊        | 9/50 [01:13<05:45,  8.43s/it]"
     ]
    },
    {
     "name": "stdout",
     "output_type": "stream",
     "text": [
      "1/1 [==============================] - 0s 493ms/step\n"
     ]
    },
    {
     "name": "stderr",
     "output_type": "stream",
     "text": [
      " 20%|██        | 10/50 [01:20<05:16,  7.92s/it]"
     ]
    },
    {
     "name": "stdout",
     "output_type": "stream",
     "text": [
      "1/1 [==============================] - 0s 496ms/step\n"
     ]
    },
    {
     "name": "stderr",
     "output_type": "stream",
     "text": [
      " 22%|██▏       | 11/50 [01:26<04:49,  7.43s/it]"
     ]
    },
    {
     "name": "stdout",
     "output_type": "stream",
     "text": [
      "1/1 [==============================] - 0s 439ms/step\n"
     ]
    },
    {
     "name": "stderr",
     "output_type": "stream",
     "text": [
      " 24%|██▍       | 12/50 [01:35<04:58,  7.85s/it]"
     ]
    },
    {
     "name": "stdout",
     "output_type": "stream",
     "text": [
      "1/1 [==============================] - 0s 441ms/step\n"
     ]
    },
    {
     "name": "stderr",
     "output_type": "stream",
     "text": [
      " 26%|██▌       | 13/50 [01:46<05:24,  8.76s/it]"
     ]
    },
    {
     "name": "stdout",
     "output_type": "stream",
     "text": [
      "1/1 [==============================] - 0s 441ms/step\n"
     ]
    },
    {
     "name": "stderr",
     "output_type": "stream",
     "text": [
      " 28%|██▊       | 14/50 [01:52<04:45,  7.92s/it]"
     ]
    },
    {
     "name": "stdout",
     "output_type": "stream",
     "text": [
      "1/1 [==============================] - 0s 444ms/step\n"
     ]
    },
    {
     "name": "stderr",
     "output_type": "stream",
     "text": [
      " 30%|███       | 15/50 [02:00<04:40,  8.00s/it]"
     ]
    },
    {
     "name": "stdout",
     "output_type": "stream",
     "text": [
      "1/1 [==============================] - 0s 455ms/step\n"
     ]
    },
    {
     "name": "stderr",
     "output_type": "stream",
     "text": [
      " 32%|███▏      | 16/50 [02:09<04:39,  8.22s/it]"
     ]
    },
    {
     "name": "stdout",
     "output_type": "stream",
     "text": [
      "1/1 [==============================] - 0s 444ms/step\n"
     ]
    },
    {
     "name": "stderr",
     "output_type": "stream",
     "text": [
      " 34%|███▍      | 17/50 [02:16<04:20,  7.88s/it]"
     ]
    },
    {
     "name": "stdout",
     "output_type": "stream",
     "text": [
      "1/1 [==============================] - 0s 469ms/step\n"
     ]
    },
    {
     "name": "stderr",
     "output_type": "stream",
     "text": [
      " 36%|███▌      | 18/50 [02:22<04:00,  7.51s/it]"
     ]
    },
    {
     "name": "stdout",
     "output_type": "stream",
     "text": [
      "1/1 [==============================] - 0s 443ms/step\n"
     ]
    },
    {
     "name": "stderr",
     "output_type": "stream",
     "text": [
      " 38%|███▊      | 19/50 [02:35<04:45,  9.20s/it]"
     ]
    },
    {
     "name": "stdout",
     "output_type": "stream",
     "text": [
      "1/1 [==============================] - 0s 443ms/step\n"
     ]
    },
    {
     "name": "stderr",
     "output_type": "stream",
     "text": [
      " 40%|████      | 20/50 [02:42<04:15,  8.50s/it]"
     ]
    },
    {
     "name": "stdout",
     "output_type": "stream",
     "text": [
      "1/1 [==============================] - 0s 444ms/step\n"
     ]
    },
    {
     "name": "stderr",
     "output_type": "stream",
     "text": [
      " 42%|████▏     | 21/50 [02:53<04:24,  9.13s/it]"
     ]
    },
    {
     "name": "stdout",
     "output_type": "stream",
     "text": [
      "1/1 [==============================] - 0s 444ms/step\n"
     ]
    },
    {
     "name": "stderr",
     "output_type": "stream",
     "text": [
      " 44%|████▍     | 22/50 [02:58<03:43,  7.99s/it]"
     ]
    },
    {
     "name": "stdout",
     "output_type": "stream",
     "text": [
      "1/1 [==============================] - 0s 450ms/step\n"
     ]
    },
    {
     "name": "stderr",
     "output_type": "stream",
     "text": [
      " 46%|████▌     | 23/50 [03:06<03:33,  7.89s/it]"
     ]
    },
    {
     "name": "stdout",
     "output_type": "stream",
     "text": [
      "1/1 [==============================] - 0s 455ms/step\n"
     ]
    },
    {
     "name": "stderr",
     "output_type": "stream",
     "text": [
      " 48%|████▊     | 24/50 [03:14<03:28,  8.00s/it]"
     ]
    },
    {
     "name": "stdout",
     "output_type": "stream",
     "text": [
      "1/1 [==============================] - 0s 440ms/step\n"
     ]
    },
    {
     "name": "stderr",
     "output_type": "stream",
     "text": [
      " 50%|█████     | 25/50 [03:21<03:11,  7.68s/it]"
     ]
    },
    {
     "name": "stdout",
     "output_type": "stream",
     "text": [
      "1/1 [==============================] - 0s 443ms/step\n"
     ]
    },
    {
     "name": "stderr",
     "output_type": "stream",
     "text": [
      " 52%|█████▏    | 26/50 [03:32<03:28,  8.69s/it]"
     ]
    },
    {
     "name": "stdout",
     "output_type": "stream",
     "text": [
      "1/1 [==============================] - 0s 442ms/step\n"
     ]
    },
    {
     "name": "stderr",
     "output_type": "stream",
     "text": [
      " 54%|█████▍    | 27/50 [03:39<03:05,  8.05s/it]"
     ]
    },
    {
     "name": "stdout",
     "output_type": "stream",
     "text": [
      "1/1 [==============================] - 0s 440ms/step\n"
     ]
    },
    {
     "name": "stderr",
     "output_type": "stream",
     "text": [
      " 56%|█████▌    | 28/50 [03:47<03:00,  8.21s/it]"
     ]
    },
    {
     "name": "stdout",
     "output_type": "stream",
     "text": [
      "1/1 [==============================] - 0s 436ms/step\n"
     ]
    },
    {
     "name": "stderr",
     "output_type": "stream",
     "text": [
      " 58%|█████▊    | 29/50 [03:55<02:47,  7.97s/it]"
     ]
    },
    {
     "name": "stdout",
     "output_type": "stream",
     "text": [
      "1/1 [==============================] - 0s 445ms/step\n"
     ]
    },
    {
     "name": "stderr",
     "output_type": "stream",
     "text": [
      " 60%|██████    | 30/50 [04:06<02:58,  8.94s/it]"
     ]
    },
    {
     "name": "stdout",
     "output_type": "stream",
     "text": [
      "1/1 [==============================] - 0s 457ms/step\n"
     ]
    },
    {
     "name": "stderr",
     "output_type": "stream",
     "text": [
      " 62%|██████▏   | 31/50 [04:13<02:41,  8.49s/it]"
     ]
    },
    {
     "name": "stdout",
     "output_type": "stream",
     "text": [
      "1/1 [==============================] - 0s 452ms/step\n"
     ]
    },
    {
     "name": "stderr",
     "output_type": "stream",
     "text": [
      " 64%|██████▍   | 32/50 [04:22<02:31,  8.44s/it]"
     ]
    },
    {
     "name": "stdout",
     "output_type": "stream",
     "text": [
      "1/1 [==============================] - 0s 453ms/step\n"
     ]
    },
    {
     "name": "stderr",
     "output_type": "stream",
     "text": [
      " 66%|██████▌   | 33/50 [04:34<02:42,  9.53s/it]"
     ]
    },
    {
     "name": "stdout",
     "output_type": "stream",
     "text": [
      "1/1 [==============================] - 0s 466ms/step\n"
     ]
    },
    {
     "name": "stderr",
     "output_type": "stream",
     "text": [
      " 68%|██████▊   | 34/50 [04:41<02:22,  8.91s/it]"
     ]
    },
    {
     "name": "stdout",
     "output_type": "stream",
     "text": [
      "1/1 [==============================] - 0s 459ms/step\n"
     ]
    },
    {
     "name": "stderr",
     "output_type": "stream",
     "text": [
      " 70%|███████   | 35/50 [04:51<02:17,  9.15s/it]"
     ]
    },
    {
     "name": "stdout",
     "output_type": "stream",
     "text": [
      "1/1 [==============================] - 0s 479ms/step\n"
     ]
    },
    {
     "name": "stderr",
     "output_type": "stream",
     "text": [
      " 72%|███████▏  | 36/50 [04:59<02:02,  8.73s/it]"
     ]
    },
    {
     "name": "stdout",
     "output_type": "stream",
     "text": [
      "1/1 [==============================] - 0s 448ms/step\n"
     ]
    },
    {
     "name": "stderr",
     "output_type": "stream",
     "text": [
      " 74%|███████▍  | 37/50 [05:07<01:51,  8.59s/it]"
     ]
    },
    {
     "name": "stdout",
     "output_type": "stream",
     "text": [
      "1/1 [==============================] - 0s 475ms/step\n"
     ]
    },
    {
     "name": "stderr",
     "output_type": "stream",
     "text": [
      " 76%|███████▌  | 38/50 [05:16<01:44,  8.68s/it]"
     ]
    },
    {
     "name": "stdout",
     "output_type": "stream",
     "text": [
      "1/1 [==============================] - 0s 479ms/step\n"
     ]
    },
    {
     "name": "stderr",
     "output_type": "stream",
     "text": [
      " 78%|███████▊  | 39/50 [05:24<01:32,  8.42s/it]"
     ]
    },
    {
     "name": "stdout",
     "output_type": "stream",
     "text": [
      "1/1 [==============================] - 0s 440ms/step\n"
     ]
    },
    {
     "name": "stderr",
     "output_type": "stream",
     "text": [
      " 80%|████████  | 40/50 [05:36<01:36,  9.67s/it]"
     ]
    },
    {
     "name": "stdout",
     "output_type": "stream",
     "text": [
      "1/1 [==============================] - 0s 489ms/step\n"
     ]
    },
    {
     "name": "stderr",
     "output_type": "stream",
     "text": [
      " 82%|████████▏ | 41/50 [05:47<01:31, 10.11s/it]"
     ]
    },
    {
     "name": "stdout",
     "output_type": "stream",
     "text": [
      "1/1 [==============================] - 0s 455ms/step\n"
     ]
    },
    {
     "name": "stderr",
     "output_type": "stream",
     "text": [
      " 84%|████████▍ | 42/50 [05:55<01:14,  9.26s/it]"
     ]
    },
    {
     "name": "stdout",
     "output_type": "stream",
     "text": [
      "1/1 [==============================] - 0s 452ms/step\n"
     ]
    },
    {
     "name": "stderr",
     "output_type": "stream",
     "text": [
      " 86%|████████▌ | 43/50 [06:03<01:02,  8.89s/it]"
     ]
    },
    {
     "name": "stdout",
     "output_type": "stream",
     "text": [
      "1/1 [==============================] - 0s 475ms/step\n"
     ]
    },
    {
     "name": "stderr",
     "output_type": "stream",
     "text": [
      " 88%|████████▊ | 44/50 [06:12<00:54,  9.05s/it]"
     ]
    },
    {
     "name": "stdout",
     "output_type": "stream",
     "text": [
      "1/1 [==============================] - 0s 488ms/step\n"
     ]
    },
    {
     "name": "stderr",
     "output_type": "stream",
     "text": [
      " 90%|█████████ | 45/50 [06:21<00:44,  8.89s/it]"
     ]
    },
    {
     "name": "stdout",
     "output_type": "stream",
     "text": [
      "1/1 [==============================] - 1s 513ms/step\n"
     ]
    },
    {
     "name": "stderr",
     "output_type": "stream",
     "text": [
      " 92%|█████████▏| 46/50 [06:27<00:33,  8.29s/it]"
     ]
    },
    {
     "name": "stdout",
     "output_type": "stream",
     "text": [
      "1/1 [==============================] - 0s 469ms/step\n"
     ]
    },
    {
     "name": "stderr",
     "output_type": "stream",
     "text": [
      " 94%|█████████▍| 47/50 [06:36<00:24,  8.25s/it]"
     ]
    },
    {
     "name": "stdout",
     "output_type": "stream",
     "text": [
      "1/1 [==============================] - 0s 468ms/step\n"
     ]
    },
    {
     "name": "stderr",
     "output_type": "stream",
     "text": [
      " 96%|█████████▌| 48/50 [06:43<00:16,  8.09s/it]"
     ]
    },
    {
     "name": "stdout",
     "output_type": "stream",
     "text": [
      "1/1 [==============================] - 0s 458ms/step\n"
     ]
    },
    {
     "name": "stderr",
     "output_type": "stream",
     "text": [
      " 98%|█████████▊| 49/50 [06:49<00:07,  7.49s/it]"
     ]
    },
    {
     "name": "stdout",
     "output_type": "stream",
     "text": [
      "1/1 [==============================] - 0s 445ms/step\n"
     ]
    },
    {
     "name": "stderr",
     "output_type": "stream",
     "text": [
      "100%|██████████| 50/50 [06:57<00:00,  8.35s/it]"
     ]
    },
    {
     "name": "stdout",
     "output_type": "stream",
     "text": [
      "Figures are stored in '../images/test_predictions folder'\n"
     ]
    },
    {
     "name": "stderr",
     "output_type": "stream",
     "text": [
      "\n"
     ]
    }
   ],
   "source": [
    "def find_anchor_frame(beats, tempo, sr=12000, hop_length=128):\n",
    "    \"\"\"Determine the first beat frame that best matches the expected beat interval given a tempo and sample rate.\"\"\"\n",
    "    expected_interval = int(librosa.time_to_frames(60.0 / tempo, sr=sr, hop_length=hop_length))\n",
    "    best_match_start = max((1 - abs(np.mean(beats[i:i+3]) - expected_interval) / expected_interval, beats[i]) for i in range(len(beats) - 2))[1]\n",
    "    return best_match_start if best_match_start > 0.95 else beats[0]\n",
    "\n",
    "def create_beat_grid(beats, anchor_frame, beat_interval_in_frames, time_signature, duration_in_frames):\n",
    "    \"\"\"Create a grid of beats and meters based on the tempo, time signature, and detected beats of the song.\"\"\"\n",
    "    anchor_frame = beats[0] if anchor_frame is None else anchor_frame\n",
    "    beat_grid = np.arange(anchor_frame, -beat_interval_in_frames, -beat_interval_in_frames)\n",
    "    beat_grid = beat_grid[beat_grid >= 0]\n",
    "    meter_grid = np.arange(beat_grid[0], duration_in_frames + 1, beat_interval_in_frames * time_signature)\n",
    "    meter_grid = np.unique(np.concatenate((meter_grid, [0, duration_in_frames])))\n",
    "    return beat_grid, meter_grid\n",
    "\n",
    "def apply_measure_grid(ax, measure_grid_times):\n",
    "    \"\"\"For creating grid lines on visualizations\"\"\"\n",
    "    for time in measure_grid_times:\n",
    "        ax.axvline(x=time, color='grey', linestyle='--', linewidth=1, alpha=0.6)\n",
    "        \n",
    "    def highlight_predictions(ax, unpadded_predictions, true_labels, measure_grid_times, sr):\n",
    "        \"\"\"Overlay the predicted sections based on the meter grid, predictions array, and true labels.\"\"\"\n",
    "        # Define colors for each type of prediction\n",
    "        colors = {'TP': 'green', 'TN': (0, 0, 0, 0.5), 'FP': 'red', 'FN': (1, 0.01, 0.01, 0.5)}\n",
    "        # Initialize a dictionary to keep track of whether a legend item has been added\n",
    "        legend_added = {'TP': False, 'TN': False, 'FP': False, 'FN': False}\n",
    "\n",
    "        for measure_index in range(len(unpadded_predictions)):\n",
    "            if measure_index == len(measure_grid_times) - 1:\n",
    "                # Prevent index out of range\n",
    "                break\n",
    "            start_time = measure_grid_times[measure_index]\n",
    "            end_time = measure_grid_times[measure_index + 1]\n",
    "\n",
    "            # Determine prediction type (True Positive, True Negative, False Positive, False Negative)\n",
    "            if unpadded_predictions[measure_index] == 1 and true_labels[measure_index] == 1:\n",
    "                pred_type = 'TP'\n",
    "            elif unpadded_predictions[measure_index] == 0 and true_labels[measure_index] == 0:\n",
    "                pred_type = 'TN'\n",
    "            elif unpadded_predictions[measure_index] == 1 and true_labels[measure_index] == 0:\n",
    "                pred_type = 'FP'\n",
    "            elif unpadded_predictions[measure_index] == 0 and true_labels[measure_index] == 1:\n",
    "                pred_type = 'FN'\n",
    "            else:\n",
    "                continue  # Skip if none of the above\n",
    "\n",
    "            color = colors[pred_type]\n",
    "            label = pred_type if not legend_added[pred_type] else None\n",
    "            legend_added[pred_type] = True\n",
    "\n",
    "            # Highlight the measure\n",
    "            ax.axvspan(start_time, end_time, color=color, alpha=0.3, label=label)\n",
    "\n",
    "        # Update the legend to avoid duplicates\n",
    "        handles, labels = ax.get_legend_handles_labels()\n",
    "        unique_labels = dict(zip(labels, handles))\n",
    "        ax.legend(unique_labels.values(), unique_labels.keys(), loc='best')\n",
    "        \n",
    "        \n",
    "def viz_test_predictions(song_id, X_test, y_test, model, df, sr=12000, hop_length=128, save_dir='../images/test_predictions'):\n",
    "    \"\"\"\n",
    "    Visualizing the model's predictions on the test dataset over their audio waveforms and meter-grids\n",
    "    \n",
    "    Parameters:\n",
    "    - song_id: ID of the song to visualize.\n",
    "    - X_test: Test dataset features.\n",
    "    - y_test: Test dataset labels.\n",
    "    - model: Trained model.\n",
    "    - sr: Sample rate.\n",
    "    - hop_length: Hop length used for feature extraction.\n",
    "    - save_dir: Directory to save the visualization.\n",
    "    \"\"\"\n",
    "    features = np.array(X_test[song_id])\n",
    "    true_labels = y_test[song_id]\n",
    "    predictions = model.predict(np.expand_dims(features, axis=0)).squeeze()\n",
    "    \n",
    "    # Calculate F1 score for the song\n",
    "    predictions_binary = predictions.round()\n",
    "    valid_indices = true_labels != -1\n",
    "    filtered_true_labels = true_labels[valid_indices]\n",
    "    filtered_predictions = predictions_binary[valid_indices]\n",
    "    f1 = f1_score(filtered_true_labels, filtered_predictions, average='binary')\n",
    "    \n",
    "    # Load song data\n",
    "    song_id = int(song_id)\n",
    "    audio_path = f'../data/audio_files/processed/{song_id}.mp3'\n",
    "    y, sr = librosa.load(audio_path, sr=sr)\n",
    "    y_perc = librosa.effects.hpss(y)[1]\n",
    "    onset_env = librosa.onset.onset_strength(y=y_perc, sr=sr, hop_length=hop_length)\n",
    "    tempo, beats = librosa.beat.beat_track(onset_envelope=onset_env, sr=sr, hop_length=hop_length)\n",
    "    duration_in_frames = len(onset_env)\n",
    "    \n",
    "    data = df[df['SongID'] == song_id]\n",
    "    bpm = data['sp_tempo'].fillna(tempo).replace(0, tempo).clip(lower=70, upper=140).values[0]\n",
    "    time_signature = int(data['sp_time_signature'].fillna(4).replace(0, 4).values[0])\n",
    "\n",
    "    anchor_frame = find_anchor_frame(beats, bpm, sr, hop_length)\n",
    "    beat_interval_in_frames = librosa.time_to_frames(60.0 / bpm, sr=sr, hop_length=hop_length)\n",
    "    _, meter_grid = create_beat_grid(beats, anchor_frame, beat_interval_in_frames, time_signature, duration_in_frames)\n",
    "    meter_grid_times = librosa.frames_to_time(meter_grid, sr=sr, hop_length=hop_length)\n",
    "    \n",
    "    # Visualize waveform and predictions\n",
    "    fig, ax = plt.subplots(figsize=(10, 5))\n",
    "    librosa.display.waveshow(y, sr=sr, ax=ax)\n",
    "    \n",
    "    ax.set_xlim(0, librosa.get_duration(y=y, sr=12000, hop_length=128))\n",
    "    apply_measure_grid(ax, meter_grid_times)\n",
    "    highlight_predictions(ax, filtered_predictions, filtered_true_labels, meter_grid_times, sr)\n",
    "    \n",
    "    ax.set_ylabel('Amplitude')\n",
    "    plt.title(f'Predictions for Song #{song_id} ({f1:.3f} F1 Score)')\n",
    "    plt.tight_layout()\n",
    "    #plt.show()\n",
    "    plt.savefig(os.path.join(save_dir, f'{song_id}.png'))\n",
    "    plt.close()\n",
    "\n",
    "    \n",
    "    \n",
    "df = pd.read_csv('../data/clean_labeled.csv')\n",
    "song_ids = list(X_test.keys())\n",
    "#random_song_id = np.random.choice(song_ids)\n",
    " \n",
    "for random_song_id in tqdm(song_ids):\n",
    "    prototype_visualization(random_song_id, X_test, y_test, model, df, sr=12000, hop_length=128, save_dir='../images/test_predictions')\n",
    "    \n",
    "print(\"Figures are stored in '../images/test_predictions folder'\")"
   ]
  },
  {
   "cell_type": "code",
   "execution_count": null,
   "id": "98715993-9c61-40c1-838d-d562d4d324b8",
   "metadata": {},
   "outputs": [],
   "source": []
  }
 ],
 "metadata": {
  "kernelspec": {
   "display_name": "Python 3 (ipykernel)",
   "language": "python",
   "name": "python3"
  },
  "language_info": {
   "codemirror_mode": {
    "name": "ipython",
    "version": 3
   },
   "file_extension": ".py",
   "mimetype": "text/x-python",
   "name": "python",
   "nbconvert_exporter": "python",
   "pygments_lexer": "ipython3",
   "version": "3.11.5"
  }
 },
 "nbformat": 4,
 "nbformat_minor": 5
}
